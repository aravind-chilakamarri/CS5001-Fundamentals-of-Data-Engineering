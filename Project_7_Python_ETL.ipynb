{
  "nbformat": 4,
  "nbformat_minor": 0,
  "metadata": {
    "colab": {
      "provenance": [],
      "include_colab_link": true
    },
    "kernelspec": {
      "name": "python3",
      "display_name": "Python 3"
    },
    "language_info": {
      "name": "python"
    }
  },
  "cells": [
    {
      "cell_type": "markdown",
      "metadata": {
        "id": "view-in-github",
        "colab_type": "text"
      },
      "source": [
        "<a href=\"https://colab.research.google.com/github/aravind-chilakamarri/CS5001-Fundamentals-of-Data-Engineering/blob/main/Project_7_Python_ETL.ipynb\" target=\"_parent\"><img src=\"https://colab.research.google.com/assets/colab-badge.svg\" alt=\"Open In Colab\"/></a>"
      ]
    },
    {
      "cell_type": "code",
      "source": [
        "#imports and initializations\n",
        "import requests\n",
        "import pandas as pd\n",
        "import sqlite3\n",
        "connection = sqlite3.connect('brewery_data.db')\n",
        "fetch_data = []"
      ],
      "metadata": {
        "id": "dbH9TcgEaQY9"
      },
      "execution_count": 48,
      "outputs": []
    },
    {
      "cell_type": "code",
      "source": [
        "# initialize api endpoint\n",
        "api = \"https://api.openbrewerydb.org/v1/breweries/random?size=50\""
      ],
      "metadata": {
        "id": "9zi4YbtcaSEl"
      },
      "execution_count": 49,
      "outputs": []
    },
    {
      "cell_type": "code",
      "source": [
        "#check response\n",
        "response = requests.get(api)"
      ],
      "metadata": {
        "id": "FpIQuOIsaV2-"
      },
      "execution_count": 50,
      "outputs": []
    },
    {
      "cell_type": "code",
      "source": [
        "#check the count given by response\n",
        "len(response.json())"
      ],
      "metadata": {
        "colab": {
          "base_uri": "https://localhost:8080/"
        },
        "id": "1O-pa7TYazJm",
        "outputId": "19ee50c0-b3ed-495a-b7dc-7e5f1ac308db"
      },
      "execution_count": 51,
      "outputs": [
        {
          "output_type": "execute_result",
          "data": {
            "text/plain": [
              "50"
            ]
          },
          "metadata": {},
          "execution_count": 51
        }
      ]
    },
    {
      "cell_type": "code",
      "source": [
        "# hit the api as many time till you get 10000 records\n",
        "for i in range(10000//len(response.json())):\n",
        "  response = requests.get(api)\n",
        "  fetch_data.extend(response.json())"
      ],
      "metadata": {
        "id": "6k3mfJaWa4QI"
      },
      "execution_count": 52,
      "outputs": []
    },
    {
      "cell_type": "code",
      "source": [
        "#check number of fetched records which should match 10000\n",
        "len(fetch_data)"
      ],
      "metadata": {
        "colab": {
          "base_uri": "https://localhost:8080/"
        },
        "id": "-eyPASQTbqgK",
        "outputId": "522d012b-3818-48d2-db5f-e967c4f79b6d"
      },
      "execution_count": 53,
      "outputs": [
        {
          "output_type": "execute_result",
          "data": {
            "text/plain": [
              "10000"
            ]
          },
          "metadata": {},
          "execution_count": 53
        }
      ]
    },
    {
      "cell_type": "code",
      "source": [
        "# check what kind of records in fetch_data list. Seems like a dict element\n",
        "fetch_data[0]"
      ],
      "metadata": {
        "colab": {
          "base_uri": "https://localhost:8080/"
        },
        "id": "9LbNmBg3cKs_",
        "outputId": "2b12b213-67d4-4536-ec79-4cb6509bae41"
      },
      "execution_count": 54,
      "outputs": [
        {
          "output_type": "execute_result",
          "data": {
            "text/plain": [
              "{'id': '8b44ff77-fb30-4b24-afa6-844d9af5c8af',\n",
              " 'name': 'Carver Brewing Co',\n",
              " 'brewery_type': 'brewpub',\n",
              " 'address_1': '1022 Main Ave',\n",
              " 'address_2': None,\n",
              " 'address_3': None,\n",
              " 'city': 'Durango',\n",
              " 'state_province': 'Colorado',\n",
              " 'postal_code': '81301-5124',\n",
              " 'country': 'United States',\n",
              " 'longitude': '-107.8800415',\n",
              " 'latitude': '37.2748415',\n",
              " 'phone': '9702592545',\n",
              " 'website_url': 'http://carverbrewing.com',\n",
              " 'state': 'Colorado',\n",
              " 'street': '1022 Main Ave'}"
            ]
          },
          "metadata": {},
          "execution_count": 54
        }
      ]
    },
    {
      "cell_type": "code",
      "source": [
        "# prepare the dataframe from fetch_data list\n",
        "df = pd.DataFrame(fetch_data)"
      ],
      "metadata": {
        "id": "qJSrx7sVbzwh"
      },
      "execution_count": 55,
      "outputs": []
    },
    {
      "cell_type": "code",
      "source": [
        "df.shape"
      ],
      "metadata": {
        "colab": {
          "base_uri": "https://localhost:8080/"
        },
        "id": "elwuqUY6dAt6",
        "outputId": "ed344ffa-d1ce-426c-abba-8f35ab2988d8"
      },
      "execution_count": 56,
      "outputs": [
        {
          "output_type": "execute_result",
          "data": {
            "text/plain": [
              "(10000, 16)"
            ]
          },
          "metadata": {},
          "execution_count": 56
        }
      ]
    },
    {
      "cell_type": "code",
      "source": [
        "# first remove dups\n",
        "# next replace NA with Phone number unknown in phone column\n",
        "# next replace NA with website url unknown in website_url column\n",
        "\n",
        "df.drop_duplicates(inplace=True)\n",
        "df['phone'].fillna(\"Phone number unknown\", inplace=True)\n",
        "df['website_url'].fillna(\"Website URL unknown\", inplace=True)"
      ],
      "metadata": {
        "id": "8Tx6dCPJc_sI"
      },
      "execution_count": 57,
      "outputs": []
    },
    {
      "cell_type": "code",
      "source": [
        "# check the shape after data transformations\n",
        "df.shape"
      ],
      "metadata": {
        "colab": {
          "base_uri": "https://localhost:8080/"
        },
        "id": "MkYYc7L_cGDg",
        "outputId": "5dcdc0ad-c5a7-43fb-f4dc-8bd8acdd7e6d"
      },
      "execution_count": 58,
      "outputs": [
        {
          "output_type": "execute_result",
          "data": {
            "text/plain": [
              "(5741, 16)"
            ]
          },
          "metadata": {},
          "execution_count": 58
        }
      ]
    },
    {
      "cell_type": "code",
      "source": [
        "# just a  quick check\n",
        "df.iterrows()"
      ],
      "metadata": {
        "colab": {
          "base_uri": "https://localhost:8080/"
        },
        "id": "TEiNq8fheWpw",
        "outputId": "e2d4d553-9d33-44cf-b9be-20c20f4cb3cb"
      },
      "execution_count": 59,
      "outputs": [
        {
          "output_type": "execute_result",
          "data": {
            "text/plain": [
              "<generator object DataFrame.iterrows at 0x7c15563a66c0>"
            ]
          },
          "metadata": {},
          "execution_count": 59
        }
      ]
    },
    {
      "cell_type": "code",
      "source": [
        "# create a cusror from created connection and start loading the data\n",
        "cursor = connection.cursor()\n",
        "cursor.execute('CREATE TABLE IF NOT EXISTS US_data (id INTEGER PRIMARY KEY, name TEXT, city TEXT, state TEXT, country TEXT, phone TEXT)')\n",
        "cursor.execute('CREATE TABLE IF NOT EXISTS Non_US_data (id INTEGER PRIMARY KEY, name TEXT, city TEXT, state TEXT, country TEXT, phone TEXT)')\n",
        "\n",
        "# Load the transformed data into the SQLite tables based on the country\n",
        "us_data = df[df['country'] == 'United States']\n",
        "non_us_data = df[df['country'] != 'United States']\n",
        "\n",
        "# Insert data into the 'US_data' table\n",
        "us_data.to_sql('US_data', connection, if_exists='replace', index=False)\n",
        "\n",
        "# Insert data into the 'Non_US_data' table\n",
        "non_us_data.to_sql('Non_US_data', connection, if_exists='replace', index=False)\n",
        "\n",
        "# Commit the changes and close the connection\n",
        "connection.commit()\n",
        "\n",
        "\n",
        "us_data = pd.read_sql_query(\"SELECT * FROM US_data\", connection)\n",
        "non_us_data = pd.read_sql_query(\"SELECT * FROM Non_US_data\", connection)\n",
        "\n",
        "# Get total counts\n",
        "us_data_count = len(us_data)\n",
        "non_us_data_count = len(non_us_data)\n",
        "\n",
        "# Print total counts\n",
        "print(f\"Total number of records in US_data: {us_data_count}\")\n",
        "print(f\"Total number of records in Non_US_data: {non_us_data_count}\")\n",
        "\n",
        "# Get state counts for US_data\n",
        "state_counts = us_data['state'].value_counts().reset_index()\n",
        "state_counts.columns = ['State', 'Count']\n",
        "\n",
        "# Print state counts\n",
        "print(\"Total number of records grouped by state in US_data:\")\n",
        "print(state_counts.to_string(index=False))\n",
        "\n",
        "\n",
        "connection.close()"
      ],
      "metadata": {
        "colab": {
          "base_uri": "https://localhost:8080/"
        },
        "id": "SItKoiXzca4o",
        "outputId": "29baacfc-aa9e-42f3-d442-e9aded27cd37"
      },
      "execution_count": 61,
      "outputs": [
        {
          "output_type": "stream",
          "name": "stdout",
          "text": [
            "Total number of records in US_data: 5545\n",
            "Total number of records in Non_US_data: 196\n",
            "Total number of records grouped by state in US_data:\n",
            "               State  Count\n",
            "          California    660\n",
            "          Washington    341\n",
            "            Colorado    308\n",
            "            New York    296\n",
            "            Michigan    268\n",
            "               Texas    243\n",
            "        Pennsylvania    236\n",
            "             Florida    221\n",
            "              Oregon    215\n",
            "      North Carolina    212\n",
            "                Ohio    201\n",
            "            Virginia    174\n",
            "            Illinois    162\n",
            "           Wisconsin    140\n",
            "           Minnesota    132\n",
            "       Massachusetts    119\n",
            "             Indiana    111\n",
            "            Missouri    102\n",
            "             Arizona     91\n",
            "               Maine     87\n",
            "            Maryland     81\n",
            "          New Jersey     79\n",
            "           Tennessee     79\n",
            "         Connecticut     67\n",
            "             Montana     64\n",
            "                Iowa     61\n",
            "             Georgia     58\n",
            "          New Mexico     57\n",
            "      South Carolina     57\n",
            "       New Hampshire     43\n",
            "            Kentucky     43\n",
            "               Idaho     41\n",
            "            Nebraska     40\n",
            "              Nevada     37\n",
            "             Vermont     37\n",
            "              Alaska     36\n",
            "            Arkansas     33\n",
            "            Oklahoma     31\n",
            "             Alabama     30\n",
            "        South Dakota     30\n",
            "              Kansas     27\n",
            "                Utah     26\n",
            "       West Virginia     24\n",
            "        Rhode Island     22\n",
            "           Louisiana     21\n",
            "             Wyoming     21\n",
            "        North Dakota     21\n",
            "            Delaware     20\n",
            "              Hawaii     14\n",
            "District of Columbia     12\n",
            "         Mississippi     12\n",
            "                Utah      1\n",
            "         Washington       1\n"
          ]
        }
      ]
    },
    {
      "cell_type": "code",
      "source": [],
      "metadata": {
        "id": "_U1X4EO9ey7-"
      },
      "execution_count": null,
      "outputs": []
    }
  ]
}