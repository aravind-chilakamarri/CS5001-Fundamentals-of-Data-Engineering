{
  "nbformat": 4,
  "nbformat_minor": 0,
  "metadata": {
    "colab": {
      "provenance": [],
      "include_colab_link": true
    },
    "kernelspec": {
      "name": "python3",
      "display_name": "Python 3"
    },
    "language_info": {
      "name": "python"
    }
  },
  "cells": [
    {
      "cell_type": "markdown",
      "metadata": {
        "id": "view-in-github",
        "colab_type": "text"
      },
      "source": [
        "<a href=\"https://colab.research.google.com/github/aravind-chilakamarri/CS5001-Fundamentals-of-Data-Engineering/blob/main/project_4_pandas.ipynb\" target=\"_parent\"><img src=\"https://colab.research.google.com/assets/colab-badge.svg\" alt=\"Open In Colab\"/></a>"
      ]
    },
    {
      "cell_type": "markdown",
      "source": [
        "#You will learn:\n",
        "\n",
        "1. How to merge two pandas dataframes into one.\n",
        "2. How to split a column into two columns.\n",
        "3. How to merge two columns into one column.\n",
        "4. How to export the transformed dataframe into a CSV file."
      ],
      "metadata": {
        "id": "YFI7koWOyyA1"
      }
    },
    {
      "cell_type": "code",
      "source": [
        "# install requirement\n",
        "#!pip install pandas\n",
        "!pip install faker"
      ],
      "metadata": {
        "colab": {
          "base_uri": "https://localhost:8080/"
        },
        "id": "-fV3g65KuNP4",
        "outputId": "b9107287-9d6a-42b6-ad01-33695477403b"
      },
      "execution_count": 17,
      "outputs": [
        {
          "output_type": "stream",
          "name": "stdout",
          "text": [
            "Requirement already satisfied: faker in /usr/local/lib/python3.10/dist-packages (19.6.2)\n",
            "Requirement already satisfied: python-dateutil>=2.4 in /usr/local/lib/python3.10/dist-packages (from faker) (2.8.2)\n",
            "Requirement already satisfied: six>=1.5 in /usr/local/lib/python3.10/dist-packages (from python-dateutil>=2.4->faker) (1.16.0)\n"
          ]
        }
      ]
    },
    {
      "cell_type": "code",
      "execution_count": 125,
      "metadata": {
        "id": "eIPldl8AuBu_"
      },
      "outputs": [],
      "source": [
        "# function to create a dataframe with fake data columns\n",
        "from random import randint\n",
        "import pandas as pd\n",
        "from faker import Faker\n",
        "\n",
        "fake = Faker('en_US')\n",
        "\n",
        "def input_data(x):\n",
        "    Faker.seed(randint(1,100))\n",
        "    # pandas dataframe\n",
        "    data = pd.DataFrame()\n",
        "    for i in range(0, x):\n",
        "        data.loc[i,'id']= randint(1, 100)\n",
        "        data.loc[i,'name']= fake.name()\n",
        "        data.loc[i,'address']= fake.address()\n",
        "        data.loc[i,'latitude']= str(fake.latitude())\n",
        "        data.loc[i,'longitude']= str(fake.longitude())\n",
        "    return data"
      ]
    },
    {
      "cell_type": "code",
      "source": [
        "pd1 = input_data(10)\n",
        "pd1['id'] = pd1['id'].astype(int)\n",
        "print(pd1.to_string())"
      ],
      "metadata": {
        "colab": {
          "base_uri": "https://localhost:8080/"
        },
        "id": "zm6sArl6v_-0",
        "outputId": "f5120f62-4377-47db-9027-8bb8f10b8b6f"
      },
      "execution_count": 126,
      "outputs": [
        {
          "output_type": "stream",
          "name": "stdout",
          "text": [
            "   id                 name                                               address     latitude    longitude\n",
            "0  49  Mr. Mark Sanchez MD                      Unit 1853 Box 8125\\nDPO AE 46050    -4.278186   -60.608384\n",
            "1  68       William Murphy       119 Leon Row Suite 035\\nLaurenchester, UT 14367   -36.024980    57.678795\n",
            "2  93      Michael Stevens              916 Melissa Road\\nSimmonshaven, GU 70208  -56.4162665    88.112394\n",
            "3  74         Kellie Davis       50967 Francis Ports\\nPort Derrickfurt, AS 32711     0.177749  -162.012827\n",
            "4  54      Amber Dickerson          679 Tate Lock Suite 161\\nBretttown, CA 58637   89.2908285   163.285301\n",
            "5  29      Elizabeth Wyatt      42631 Alex Curve Apt. 204\\nAlfredhaven, AR 32088    65.454644   -14.661556\n",
            "6  72        Alyssa Snyder           08945 Nguyen Drive\\nMitchellville, MD 50230   -21.438774    96.259643\n",
            "7  63         Ariana Jones  4493 Guerra Ports Apt. 343\\nNew Tyronebury, DE 91700   -15.780316    23.962388\n",
            "8  59       Monique Castro                637 Todd Causeway\\nTroyburgh, GA 44371    46.128429   -74.209438\n",
            "9  51        Corey Vasquez     881 Rachael Knolls Apt. 313\\nNorth Jane, NV 16262   -20.924230    87.565738\n"
          ]
        }
      ]
    },
    {
      "cell_type": "code",
      "source": [
        "pd2 = input_data(10)\n",
        "pd2['id'] = pd2['id'].astype(int)\n",
        "print(pd2.to_string())"
      ],
      "metadata": {
        "colab": {
          "base_uri": "https://localhost:8080/"
        },
        "id": "Fdqbq-4_wCpK",
        "outputId": "7a761665-a4a5-428e-dc48-3855b9af231e"
      },
      "execution_count": 127,
      "outputs": [
        {
          "output_type": "stream",
          "name": "stdout",
          "text": [
            "   id               name                                                       address     latitude    longitude\n",
            "0  21       Terry Foster           02651 Gamble Knolls Suite 280\\nZavalafort, NV 42160   -24.630875     6.063688\n",
            "1  93    Teresa Mcintyre                              PSC 5020, Box 1783\\nAPO AA 09430  -54.0544945   136.170531\n",
            "2  87         Terri Nash  3669 Joshua Parkways Suite 966\\nLake Brookeborough, UT 61580   -6.0670755   -61.331310\n",
            "3  90    Victor Anderson               0722 Aaron Mount Suite 020\\nGrantland, NY 35780   -32.190542  -108.669363\n",
            "4  84     Bruce Peterson                     541 Cheryl Estate\\nMercadoburgh, GU 43889   84.4668355  -106.442099\n",
            "5  74       Amanda Mason       6203 Roberto Springs Apt. 487\\nLake Andreland, TX 19807   73.1915495   -52.378772\n",
            "6  10   Robert Hernandez                  84566 Anderson Village\\nPaulamouth, OH 60025  -70.0344325  -105.164006\n",
            "7  68  Dr. Brian Vasquez                   7462 Alexandra Ports\\nGordonburgh, ND 73846  -68.0334175  -102.204368\n",
            "8  26   Dorothy Browning                     22346 Lucas Roads\\nHardinghaven, LA 14211    11.794722   -46.600235\n",
            "9  75         Tammy Hall                                       USNS Reed\\nFPO AE 01632   -19.410878   -90.206133\n"
          ]
        }
      ]
    },
    {
      "cell_type": "code",
      "source": [
        "# Merge df1 and df2 into another dataframe df3\n",
        "# then print df3\n",
        "frames = [pd1, pd2]\n",
        "df3 = pd.concat(frames)\n",
        "print(len(df3))\n",
        "print(df3.to_string())"
      ],
      "metadata": {
        "id": "CbL6UBmNyVsE",
        "colab": {
          "base_uri": "https://localhost:8080/"
        },
        "outputId": "98d4c087-1957-47e3-bd83-81d8e6ef53e3"
      },
      "execution_count": 128,
      "outputs": [
        {
          "output_type": "stream",
          "name": "stdout",
          "text": [
            "20\n",
            "   id                 name                                                       address     latitude    longitude\n",
            "0  49  Mr. Mark Sanchez MD                              Unit 1853 Box 8125\\nDPO AE 46050    -4.278186   -60.608384\n",
            "1  68       William Murphy               119 Leon Row Suite 035\\nLaurenchester, UT 14367   -36.024980    57.678795\n",
            "2  93      Michael Stevens                      916 Melissa Road\\nSimmonshaven, GU 70208  -56.4162665    88.112394\n",
            "3  74         Kellie Davis               50967 Francis Ports\\nPort Derrickfurt, AS 32711     0.177749  -162.012827\n",
            "4  54      Amber Dickerson                  679 Tate Lock Suite 161\\nBretttown, CA 58637   89.2908285   163.285301\n",
            "5  29      Elizabeth Wyatt              42631 Alex Curve Apt. 204\\nAlfredhaven, AR 32088    65.454644   -14.661556\n",
            "6  72        Alyssa Snyder                   08945 Nguyen Drive\\nMitchellville, MD 50230   -21.438774    96.259643\n",
            "7  63         Ariana Jones          4493 Guerra Ports Apt. 343\\nNew Tyronebury, DE 91700   -15.780316    23.962388\n",
            "8  59       Monique Castro                        637 Todd Causeway\\nTroyburgh, GA 44371    46.128429   -74.209438\n",
            "9  51        Corey Vasquez             881 Rachael Knolls Apt. 313\\nNorth Jane, NV 16262   -20.924230    87.565738\n",
            "0  21         Terry Foster           02651 Gamble Knolls Suite 280\\nZavalafort, NV 42160   -24.630875     6.063688\n",
            "1  93      Teresa Mcintyre                              PSC 5020, Box 1783\\nAPO AA 09430  -54.0544945   136.170531\n",
            "2  87           Terri Nash  3669 Joshua Parkways Suite 966\\nLake Brookeborough, UT 61580   -6.0670755   -61.331310\n",
            "3  90      Victor Anderson               0722 Aaron Mount Suite 020\\nGrantland, NY 35780   -32.190542  -108.669363\n",
            "4  84       Bruce Peterson                     541 Cheryl Estate\\nMercadoburgh, GU 43889   84.4668355  -106.442099\n",
            "5  74         Amanda Mason       6203 Roberto Springs Apt. 487\\nLake Andreland, TX 19807   73.1915495   -52.378772\n",
            "6  10     Robert Hernandez                  84566 Anderson Village\\nPaulamouth, OH 60025  -70.0344325  -105.164006\n",
            "7  68    Dr. Brian Vasquez                   7462 Alexandra Ports\\nGordonburgh, ND 73846  -68.0334175  -102.204368\n",
            "8  26     Dorothy Browning                     22346 Lucas Roads\\nHardinghaven, LA 14211    11.794722   -46.600235\n",
            "9  75           Tammy Hall                                       USNS Reed\\nFPO AE 01632   -19.410878   -90.206133\n"
          ]
        }
      ]
    },
    {
      "cell_type": "code",
      "source": [
        "# Sort df3 with respect id in ascending order\n",
        "# then print df3\n",
        "df3 = df3.sort_values(by=['id'])\n",
        "print(df3.to_string())"
      ],
      "metadata": {
        "id": "WnZpnyxNyd7s",
        "colab": {
          "base_uri": "https://localhost:8080/"
        },
        "outputId": "e059c49d-5d30-48d9-8e19-38d7e3e36676"
      },
      "execution_count": 129,
      "outputs": [
        {
          "output_type": "stream",
          "name": "stdout",
          "text": [
            "   id                 name                                                       address     latitude    longitude\n",
            "6  10     Robert Hernandez                  84566 Anderson Village\\nPaulamouth, OH 60025  -70.0344325  -105.164006\n",
            "0  21         Terry Foster           02651 Gamble Knolls Suite 280\\nZavalafort, NV 42160   -24.630875     6.063688\n",
            "8  26     Dorothy Browning                     22346 Lucas Roads\\nHardinghaven, LA 14211    11.794722   -46.600235\n",
            "5  29      Elizabeth Wyatt              42631 Alex Curve Apt. 204\\nAlfredhaven, AR 32088    65.454644   -14.661556\n",
            "0  49  Mr. Mark Sanchez MD                              Unit 1853 Box 8125\\nDPO AE 46050    -4.278186   -60.608384\n",
            "9  51        Corey Vasquez             881 Rachael Knolls Apt. 313\\nNorth Jane, NV 16262   -20.924230    87.565738\n",
            "4  54      Amber Dickerson                  679 Tate Lock Suite 161\\nBretttown, CA 58637   89.2908285   163.285301\n",
            "8  59       Monique Castro                        637 Todd Causeway\\nTroyburgh, GA 44371    46.128429   -74.209438\n",
            "7  63         Ariana Jones          4493 Guerra Ports Apt. 343\\nNew Tyronebury, DE 91700   -15.780316    23.962388\n",
            "1  68       William Murphy               119 Leon Row Suite 035\\nLaurenchester, UT 14367   -36.024980    57.678795\n",
            "7  68    Dr. Brian Vasquez                   7462 Alexandra Ports\\nGordonburgh, ND 73846  -68.0334175  -102.204368\n",
            "6  72        Alyssa Snyder                   08945 Nguyen Drive\\nMitchellville, MD 50230   -21.438774    96.259643\n",
            "3  74         Kellie Davis               50967 Francis Ports\\nPort Derrickfurt, AS 32711     0.177749  -162.012827\n",
            "5  74         Amanda Mason       6203 Roberto Springs Apt. 487\\nLake Andreland, TX 19807   73.1915495   -52.378772\n",
            "9  75           Tammy Hall                                       USNS Reed\\nFPO AE 01632   -19.410878   -90.206133\n",
            "4  84       Bruce Peterson                     541 Cheryl Estate\\nMercadoburgh, GU 43889   84.4668355  -106.442099\n",
            "2  87           Terri Nash  3669 Joshua Parkways Suite 966\\nLake Brookeborough, UT 61580   -6.0670755   -61.331310\n",
            "3  90      Victor Anderson               0722 Aaron Mount Suite 020\\nGrantland, NY 35780   -32.190542  -108.669363\n",
            "2  93      Michael Stevens                      916 Melissa Road\\nSimmonshaven, GU 70208  -56.4162665    88.112394\n",
            "1  93      Teresa Mcintyre                              PSC 5020, Box 1783\\nAPO AA 09430  -54.0544945   136.170531\n"
          ]
        }
      ]
    },
    {
      "cell_type": "code",
      "source": [
        "# Split name column into two columns fname and lname\n",
        "# make sure to remove name column after that\n",
        "# then print df3\n",
        "\n",
        "def split_names(name):\n",
        "  suffixes = [\"Mr.\", \"Mrs.\", \"Ms.\", \"Dr.\", \"Jr.\", \"Sr.\", \"II\", \"III\", \"IV\", \"Esq.\", \"Ph.D.\", \"M.D.\", \"DVM\", \"DDS\", \"MBA\", \"RN\", \"CP\", \"JD\", \"MD\"]\n",
        "  for each in name.split():\n",
        "    if each in suffixes:\n",
        "      name = ' '.join(list(map(lambda x: x.replace(each, ''), name.split())))\n",
        "  return name\n",
        "df3['name'] = df3[\"name\"].apply(split_names)\n",
        "df3['fname'] = df3[\"name\"].str.split().str[:-1].str[0]\n",
        "df3['lname'] = df3[\"name\"].str.split().str[-1]\n",
        "del df3['name']\n",
        "\n",
        "print(df3.to_string())\n"
      ],
      "metadata": {
        "id": "ttq8PBuXykfU",
        "colab": {
          "base_uri": "https://localhost:8080/"
        },
        "outputId": "13174531-5dcf-404d-d118-77d91d403551"
      },
      "execution_count": 130,
      "outputs": [
        {
          "output_type": "stream",
          "name": "stdout",
          "text": [
            "   id                                                       address     latitude    longitude      fname      lname\n",
            "6  10                  84566 Anderson Village\\nPaulamouth, OH 60025  -70.0344325  -105.164006     Robert  Hernandez\n",
            "0  21           02651 Gamble Knolls Suite 280\\nZavalafort, NV 42160   -24.630875     6.063688      Terry     Foster\n",
            "8  26                     22346 Lucas Roads\\nHardinghaven, LA 14211    11.794722   -46.600235    Dorothy   Browning\n",
            "5  29              42631 Alex Curve Apt. 204\\nAlfredhaven, AR 32088    65.454644   -14.661556  Elizabeth      Wyatt\n",
            "0  49                              Unit 1853 Box 8125\\nDPO AE 46050    -4.278186   -60.608384       Mark    Sanchez\n",
            "9  51             881 Rachael Knolls Apt. 313\\nNorth Jane, NV 16262   -20.924230    87.565738      Corey    Vasquez\n",
            "4  54                  679 Tate Lock Suite 161\\nBretttown, CA 58637   89.2908285   163.285301      Amber  Dickerson\n",
            "8  59                        637 Todd Causeway\\nTroyburgh, GA 44371    46.128429   -74.209438    Monique     Castro\n",
            "7  63          4493 Guerra Ports Apt. 343\\nNew Tyronebury, DE 91700   -15.780316    23.962388     Ariana      Jones\n",
            "1  68               119 Leon Row Suite 035\\nLaurenchester, UT 14367   -36.024980    57.678795    William     Murphy\n",
            "7  68                   7462 Alexandra Ports\\nGordonburgh, ND 73846  -68.0334175  -102.204368      Brian    Vasquez\n",
            "6  72                   08945 Nguyen Drive\\nMitchellville, MD 50230   -21.438774    96.259643     Alyssa     Snyder\n",
            "3  74               50967 Francis Ports\\nPort Derrickfurt, AS 32711     0.177749  -162.012827     Kellie      Davis\n",
            "5  74       6203 Roberto Springs Apt. 487\\nLake Andreland, TX 19807   73.1915495   -52.378772     Amanda      Mason\n",
            "9  75                                       USNS Reed\\nFPO AE 01632   -19.410878   -90.206133      Tammy       Hall\n",
            "4  84                     541 Cheryl Estate\\nMercadoburgh, GU 43889   84.4668355  -106.442099      Bruce   Peterson\n",
            "2  87  3669 Joshua Parkways Suite 966\\nLake Brookeborough, UT 61580   -6.0670755   -61.331310      Terri       Nash\n",
            "3  90               0722 Aaron Mount Suite 020\\nGrantland, NY 35780   -32.190542  -108.669363     Victor   Anderson\n",
            "2  93                      916 Melissa Road\\nSimmonshaven, GU 70208  -56.4162665    88.112394    Michael    Stevens\n",
            "1  93                              PSC 5020, Box 1783\\nAPO AA 09430  -54.0544945   136.170531     Teresa   Mcintyre\n"
          ]
        }
      ]
    },
    {
      "cell_type": "code",
      "source": [
        "# Merge latitude and longitude columns into location column\n",
        "# in <latitude>, <longitude> format\n",
        "# make sure to remove latitude and longitude columns after that\n",
        "# then print df3\n",
        "# df3 has columns including id, fname, lname, address and location now\n",
        "\n",
        "df3['location'] = df3['latitude'] + ' , ' + df3['longitude']\n",
        "del df3['latitude']\n",
        "del df3['longitude']\n",
        "print(df3.to_string())"
      ],
      "metadata": {
        "id": "iJ-yXvyBy09x",
        "colab": {
          "base_uri": "https://localhost:8080/"
        },
        "outputId": "f5bd55b6-f28b-44e0-a5bf-7f79cc74fe61"
      },
      "execution_count": 131,
      "outputs": [
        {
          "output_type": "stream",
          "name": "stdout",
          "text": [
            "   id                                                       address      fname      lname                   location\n",
            "6  10                  84566 Anderson Village\\nPaulamouth, OH 60025     Robert  Hernandez  -70.0344325 , -105.164006\n",
            "0  21           02651 Gamble Knolls Suite 280\\nZavalafort, NV 42160      Terry     Foster      -24.630875 , 6.063688\n",
            "8  26                     22346 Lucas Roads\\nHardinghaven, LA 14211    Dorothy   Browning     11.794722 , -46.600235\n",
            "5  29              42631 Alex Curve Apt. 204\\nAlfredhaven, AR 32088  Elizabeth      Wyatt     65.454644 , -14.661556\n",
            "0  49                              Unit 1853 Box 8125\\nDPO AE 46050       Mark    Sanchez     -4.278186 , -60.608384\n",
            "9  51             881 Rachael Knolls Apt. 313\\nNorth Jane, NV 16262      Corey    Vasquez     -20.924230 , 87.565738\n",
            "4  54                  679 Tate Lock Suite 161\\nBretttown, CA 58637      Amber  Dickerson    89.2908285 , 163.285301\n",
            "8  59                        637 Todd Causeway\\nTroyburgh, GA 44371    Monique     Castro     46.128429 , -74.209438\n",
            "7  63          4493 Guerra Ports Apt. 343\\nNew Tyronebury, DE 91700     Ariana      Jones     -15.780316 , 23.962388\n",
            "1  68               119 Leon Row Suite 035\\nLaurenchester, UT 14367    William     Murphy     -36.024980 , 57.678795\n",
            "7  68                   7462 Alexandra Ports\\nGordonburgh, ND 73846      Brian    Vasquez  -68.0334175 , -102.204368\n",
            "6  72                   08945 Nguyen Drive\\nMitchellville, MD 50230     Alyssa     Snyder     -21.438774 , 96.259643\n",
            "3  74               50967 Francis Ports\\nPort Derrickfurt, AS 32711     Kellie      Davis     0.177749 , -162.012827\n",
            "5  74       6203 Roberto Springs Apt. 487\\nLake Andreland, TX 19807     Amanda      Mason    73.1915495 , -52.378772\n",
            "9  75                                       USNS Reed\\nFPO AE 01632      Tammy       Hall    -19.410878 , -90.206133\n",
            "4  84                     541 Cheryl Estate\\nMercadoburgh, GU 43889      Bruce   Peterson   84.4668355 , -106.442099\n",
            "2  87  3669 Joshua Parkways Suite 966\\nLake Brookeborough, UT 61580      Terri       Nash    -6.0670755 , -61.331310\n",
            "3  90               0722 Aaron Mount Suite 020\\nGrantland, NY 35780     Victor   Anderson   -32.190542 , -108.669363\n",
            "2  93                      916 Melissa Road\\nSimmonshaven, GU 70208    Michael    Stevens    -56.4162665 , 88.112394\n",
            "1  93                              PSC 5020, Box 1783\\nAPO AA 09430     Teresa   Mcintyre   -54.0544945 , 136.170531\n"
          ]
        }
      ]
    },
    {
      "cell_type": "code",
      "source": [
        "# write df3 to a CSV file named output_data.csv\n",
        "df3.to_csv('output_data.csv', index=False)"
      ],
      "metadata": {
        "id": "AqYVOkeuzG1b"
      },
      "execution_count": 132,
      "outputs": []
    },
    {
      "cell_type": "markdown",
      "source": [
        "After completing it. Re-run your notebook. Download .ipynb file. Submit it to Canvas for grading."
      ],
      "metadata": {
        "id": "xz3ylqjesSiO"
      }
    },
    {
      "cell_type": "code",
      "source": [],
      "metadata": {
        "id": "TKX5PfeK9D88"
      },
      "execution_count": null,
      "outputs": []
    }
  ]
}