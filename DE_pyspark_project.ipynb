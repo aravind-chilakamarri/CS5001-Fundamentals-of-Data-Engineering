{
  "nbformat": 4,
  "nbformat_minor": 0,
  "metadata": {
    "colab": {
      "provenance": [],
      "include_colab_link": true
    },
    "kernelspec": {
      "name": "python3",
      "display_name": "Python 3"
    },
    "language_info": {
      "name": "python"
    }
  },
  "cells": [
    {
      "cell_type": "markdown",
      "metadata": {
        "id": "view-in-github",
        "colab_type": "text"
      },
      "source": [
        "<a href=\"https://colab.research.google.com/github/aravind-chilakamarri/CS5001-Fundamentals-of-Data-Engineering/blob/main/DE_pyspark_project.ipynb\" target=\"_parent\"><img src=\"https://colab.research.google.com/assets/colab-badge.svg\" alt=\"Open In Colab\"/></a>"
      ]
    },
    {
      "cell_type": "markdown",
      "source": [
        "Source: https://towardsdatascience.com/pyspark-on-google-colab-101-d31830b238be"
      ],
      "metadata": {
        "id": "CPOtbdI8Xkc8"
      }
    },
    {
      "cell_type": "markdown",
      "metadata": {
        "id": "sCJilX-ybl7c"
      },
      "source": [
        "# PySpark on Google Colab 101"
      ]
    },
    {
      "cell_type": "markdown",
      "metadata": {
        "id": "o8uL463oFKkv"
      },
      "source": [
        "In this article, we will see how we can run PySpark in a Google Colaboratory notebook. We will also perform some basic data exploratory tasks common to most data science problems. So, let’s get cracking!"
      ]
    },
    {
      "cell_type": "code",
      "metadata": {
        "id": "ixLSds_jw4Ff"
      },
      "source": [
        "!apt-get install openjdk-8-jdk-headless -qq > /dev/null"
      ],
      "execution_count": 3,
      "outputs": []
    },
    {
      "cell_type": "code",
      "metadata": {
        "id": "WA4ebxjl8IR3",
        "colab": {
          "base_uri": "https://localhost:8080/"
        },
        "outputId": "25f24811-c583-4d46-bdfd-f8d6b4b13263"
      },
      "source": [
        "!wget https://archive.apache.org/dist/spark/spark-3.2.4/spark-3.2.4-bin-hadoop2.7.tgz"
      ],
      "execution_count": 4,
      "outputs": [
        {
          "output_type": "stream",
          "name": "stdout",
          "text": [
            "--2023-12-09 00:44:12--  https://archive.apache.org/dist/spark/spark-3.2.4/spark-3.2.4-bin-hadoop2.7.tgz\n",
            "Resolving archive.apache.org (archive.apache.org)... 65.108.204.189, 2a01:4f9:1a:a084::2\n",
            "Connecting to archive.apache.org (archive.apache.org)|65.108.204.189|:443... connected.\n",
            "HTTP request sent, awaiting response... 200 OK\n",
            "Length: 272938638 (260M) [application/x-gzip]\n",
            "Saving to: ‘spark-3.2.4-bin-hadoop2.7.tgz’\n",
            "\n",
            "spark-3.2.4-bin-had 100%[===================>] 260.29M  25.6MB/s    in 11s     \n",
            "\n",
            "2023-12-09 00:44:23 (23.9 MB/s) - ‘spark-3.2.4-bin-hadoop2.7.tgz’ saved [272938638/272938638]\n",
            "\n"
          ]
        }
      ]
    },
    {
      "cell_type": "code",
      "metadata": {
        "id": "7otLhujY8IUy"
      },
      "source": [
        "!tar xf spark-3.2.4-bin-hadoop2.7.tgz"
      ],
      "execution_count": 5,
      "outputs": []
    },
    {
      "cell_type": "code",
      "metadata": {
        "id": "cSZL-2_T8IYH"
      },
      "source": [
        "!pip install -q findspark"
      ],
      "execution_count": 6,
      "outputs": []
    },
    {
      "cell_type": "code",
      "metadata": {
        "id": "_Rvkvf2Vw6Fo"
      },
      "source": [
        "import os\n",
        "os.environ[\"JAVA_HOME\"] = \"/usr/lib/jvm/java-8-openjdk-amd64\"\n",
        "os.environ[\"SPARK_HOME\"] = \"/content/spark-3.2.4-bin-hadoop2.7\""
      ],
      "execution_count": 7,
      "outputs": []
    },
    {
      "cell_type": "code",
      "metadata": {
        "id": "alfg07gY8759"
      },
      "source": [
        "import findspark\n",
        "findspark.init()"
      ],
      "execution_count": 8,
      "outputs": []
    },
    {
      "cell_type": "code",
      "metadata": {
        "id": "0X6A0Wip73Kr"
      },
      "source": [
        "from pyspark.sql import SparkSession\n",
        "# spark = SparkSession.builder.master(\"local[*]\").getOrCreate()\n",
        "spark = SparkSession.builder\\\n",
        "        .master(\"local\")\\\n",
        "        .appName(\"Colab\")\\\n",
        "        .config('spark.ui.port', '4050')\\\n",
        "        .getOrCreate()"
      ],
      "execution_count": 9,
      "outputs": []
    },
    {
      "cell_type": "code",
      "metadata": {
        "id": "hkPDlNNO9RF-",
        "colab": {
          "base_uri": "https://localhost:8080/",
          "height": 221
        },
        "outputId": "ab304cd8-44b7-4e03-f892-f65a3b3a76d9"
      },
      "source": [
        "spark"
      ],
      "execution_count": 10,
      "outputs": [
        {
          "output_type": "execute_result",
          "data": {
            "text/plain": [
              "<pyspark.sql.session.SparkSession at 0x7a66b019ae00>"
            ],
            "text/html": [
              "\n",
              "            <div>\n",
              "                <p><b>SparkSession - in-memory</b></p>\n",
              "                \n",
              "        <div>\n",
              "            <p><b>SparkContext</b></p>\n",
              "\n",
              "            <p><a href=\"http://6fbf335f0f4b:4050\">Spark UI</a></p>\n",
              "\n",
              "            <dl>\n",
              "              <dt>Version</dt>\n",
              "                <dd><code>v3.2.4</code></dd>\n",
              "              <dt>Master</dt>\n",
              "                <dd><code>local</code></dd>\n",
              "              <dt>AppName</dt>\n",
              "                <dd><code>Colab</code></dd>\n",
              "            </dl>\n",
              "        </div>\n",
              "        \n",
              "            </div>\n",
              "        "
            ]
          },
          "metadata": {},
          "execution_count": 10
        }
      ]
    },
    {
      "cell_type": "code",
      "metadata": {
        "id": "aFlJRezL9txG",
        "colab": {
          "base_uri": "https://localhost:8080/"
        },
        "outputId": "2f17efc2-97ba-430c-a5f7-32f0b794b6c6"
      },
      "source": [
        "!wget --continue https://raw.githubusercontent.com/GarvitArya/pyspark-demo/main/sample_books.json -O /content/sample_books.json"
      ],
      "execution_count": 11,
      "outputs": [
        {
          "output_type": "stream",
          "name": "stdout",
          "text": [
            "--2023-12-09 00:44:47--  https://raw.githubusercontent.com/GarvitArya/pyspark-demo/main/sample_books.json\n",
            "Resolving raw.githubusercontent.com (raw.githubusercontent.com)... 185.199.108.133, 185.199.109.133, 185.199.110.133, ...\n",
            "Connecting to raw.githubusercontent.com (raw.githubusercontent.com)|185.199.108.133|:443... connected.\n",
            "HTTP request sent, awaiting response... 200 OK\n",
            "Length: 1565 (1.5K) [text/plain]\n",
            "Saving to: ‘/content/sample_books.json’\n",
            "\n",
            "\r          /content/   0%[                    ]       0  --.-KB/s               \r/content/sample_boo 100%[===================>]   1.53K  --.-KB/s    in 0s      \n",
            "\n",
            "2023-12-09 00:44:48 (19.3 MB/s) - ‘/content/sample_books.json’ saved [1565/1565]\n",
            "\n"
          ]
        }
      ]
    },
    {
      "cell_type": "code",
      "source": [
        "!wget https://gist.githubusercontent.com/jaidevd/23aef12e9bf56c618c41/raw/c05e98672b8d52fa0cb94aad80f75eb78342e5d4/books.csv"
      ],
      "metadata": {
        "colab": {
          "base_uri": "https://localhost:8080/"
        },
        "id": "__AwDuH4GdAD",
        "outputId": "8cf02db0-fd08-4b48-ca37-e6e9747eab52"
      },
      "execution_count": 12,
      "outputs": [
        {
          "output_type": "stream",
          "name": "stdout",
          "text": [
            "--2023-12-09 00:44:48--  https://gist.githubusercontent.com/jaidevd/23aef12e9bf56c618c41/raw/c05e98672b8d52fa0cb94aad80f75eb78342e5d4/books.csv\n",
            "Resolving gist.githubusercontent.com (gist.githubusercontent.com)... 185.199.108.133, 185.199.109.133, 185.199.110.133, ...\n",
            "Connecting to gist.githubusercontent.com (gist.githubusercontent.com)|185.199.108.133|:443... connected.\n",
            "HTTP request sent, awaiting response... 200 OK\n",
            "Length: 12151 (12K) [text/plain]\n",
            "Saving to: ‘books.csv’\n",
            "\n",
            "\rbooks.csv             0%[                    ]       0  --.-KB/s               \rbooks.csv           100%[===================>]  11.87K  --.-KB/s    in 0.001s  \n",
            "\n",
            "2023-12-09 00:44:48 (20.2 MB/s) - ‘books.csv’ saved [12151/12151]\n",
            "\n"
          ]
        }
      ]
    },
    {
      "cell_type": "code",
      "metadata": {
        "id": "zEA-RW5Sw6aD"
      },
      "source": [
        "\n",
        "# Read JSON file into dataframe\n",
        "df = spark.read.json(\"/content/sample_books.json\")\n"
      ],
      "execution_count": 13,
      "outputs": []
    },
    {
      "cell_type": "code",
      "metadata": {
        "id": "0thOUfXb96AI",
        "colab": {
          "base_uri": "https://localhost:8080/"
        },
        "outputId": "7b92af90-bde8-4ffa-8609-a044b9270422"
      },
      "source": [
        "df.printSchema()\n"
      ],
      "execution_count": 14,
      "outputs": [
        {
          "output_type": "stream",
          "name": "stdout",
          "text": [
            "root\n",
            " |-- author: string (nullable = true)\n",
            " |-- edition: string (nullable = true)\n",
            " |-- price: double (nullable = true)\n",
            " |-- title: string (nullable = true)\n",
            " |-- year_written: long (nullable = true)\n",
            "\n"
          ]
        }
      ]
    },
    {
      "cell_type": "code",
      "metadata": {
        "id": "b6ZlToW096NF",
        "colab": {
          "base_uri": "https://localhost:8080/"
        },
        "outputId": "704af146-4985-478f-d909-143132782bfc"
      },
      "source": [
        "df.show(20,False)"
      ],
      "execution_count": 15,
      "outputs": [
        {
          "output_type": "stream",
          "name": "stdout",
          "text": [
            "+--------------------+-----------------+-----+-----------------------------+------------+\n",
            "|author              |edition          |price|title                        |year_written|\n",
            "+--------------------+-----------------+-----+-----------------------------+------------+\n",
            "|Austen, Jane        |Penguin          |18.2 |Northanger Abbey             |1814        |\n",
            "|Tolstoy, Leo        |Penguin          |12.7 |War and Peace                |1865        |\n",
            "|Tolstoy, Leo        |Penguin          |13.5 |Anna Karenina                |1875        |\n",
            "|Woolf, Virginia     |Harcourt Brace   |25.0 |Mrs. Dalloway                |1925        |\n",
            "|Cunnningham, Michael|Harcourt Brace   |12.35|The Hours                    |1999        |\n",
            "|Twain, Mark         |Penguin          |5.76 |Huckleberry Finn             |1865        |\n",
            "|Dickens, Charles    |Random House     |5.75 |Bleak House                  |1870        |\n",
            "|Twain, Mark         |Random House     |7.75 |Tom Sawyer                   |1862        |\n",
            "|Woolf, Virginia     |Penguin          |29.0 |A Room of One's Own          |1922        |\n",
            "|Rowling, J.K.       |Harcourt Brace   |19.95|Harry Potter                 |2000        |\n",
            "|Marquez             |Harper  Perennial|14.0 |One Hundred Years of Solitude|1967        |\n",
            "|Shakespeare         |Signet  Classics |7.95 |Hamlet, Prince of Denmark    |1603        |\n",
            "|Tolkien, J.R.       |Penguin          |27.45|Lord of the Rings            |1937        |\n",
            "+--------------------+-----------------+-----+-----------------------------+------------+\n",
            "\n"
          ]
        }
      ]
    },
    {
      "cell_type": "code",
      "source": [
        "df.count()"
      ],
      "metadata": {
        "colab": {
          "base_uri": "https://localhost:8080/"
        },
        "id": "flI5gQh6J_rn",
        "outputId": "ac61e894-d699-4384-8b94-bdd427d26961"
      },
      "execution_count": 16,
      "outputs": [
        {
          "output_type": "execute_result",
          "data": {
            "text/plain": [
              "13"
            ]
          },
          "metadata": {},
          "execution_count": 16
        }
      ]
    },
    {
      "cell_type": "code",
      "metadata": {
        "id": "OeAe8N4a-ckh",
        "colab": {
          "base_uri": "https://localhost:8080/"
        },
        "outputId": "d039232c-8c1a-43ab-8925-789c04f280d2"
      },
      "source": [
        "df.select(\"title\", \"price\", \"year_written\").show(5)"
      ],
      "execution_count": 17,
      "outputs": [
        {
          "output_type": "stream",
          "name": "stdout",
          "text": [
            "+----------------+-----+------------+\n",
            "|           title|price|year_written|\n",
            "+----------------+-----+------------+\n",
            "|Northanger Abbey| 18.2|        1814|\n",
            "|   War and Peace| 12.7|        1865|\n",
            "|   Anna Karenina| 13.5|        1875|\n",
            "|   Mrs. Dalloway| 25.0|        1925|\n",
            "|       The Hours|12.35|        1999|\n",
            "+----------------+-----+------------+\n",
            "only showing top 5 rows\n",
            "\n"
          ]
        }
      ]
    },
    {
      "cell_type": "code",
      "metadata": {
        "id": "b4U6xkov-cnG"
      },
      "source": [
        "df_filtered = df.filter(\"year_written > 1950 AND price > 10 AND title IS NOT NULL\")"
      ],
      "execution_count": 18,
      "outputs": []
    },
    {
      "cell_type": "code",
      "metadata": {
        "id": "plXRfFBq-cpu",
        "colab": {
          "base_uri": "https://localhost:8080/"
        },
        "outputId": "e4b4f5a1-87ee-4ab6-ed68-02fb74642592"
      },
      "source": [
        "df_filtered.select(\"title\", \"price\", \"year_written\").show(5, False)"
      ],
      "execution_count": 19,
      "outputs": [
        {
          "output_type": "stream",
          "name": "stdout",
          "text": [
            "+-----------------------------+-----+------------+\n",
            "|title                        |price|year_written|\n",
            "+-----------------------------+-----+------------+\n",
            "|The Hours                    |12.35|1999        |\n",
            "|Harry Potter                 |19.95|2000        |\n",
            "|One Hundred Years of Solitude|14.0 |1967        |\n",
            "+-----------------------------+-----+------------+\n",
            "\n"
          ]
        }
      ]
    },
    {
      "cell_type": "code",
      "metadata": {
        "id": "GptKFTU6BMDw",
        "colab": {
          "base_uri": "https://localhost:8080/"
        },
        "outputId": "0e6563f7-4adc-405d-eda4-9b3602c8657d"
      },
      "source": [
        "df_filtered.count()"
      ],
      "execution_count": 20,
      "outputs": [
        {
          "output_type": "execute_result",
          "data": {
            "text/plain": [
              "3"
            ]
          },
          "metadata": {},
          "execution_count": 20
        }
      ]
    },
    {
      "cell_type": "code",
      "metadata": {
        "id": "FGy_2ERoCNWk",
        "colab": {
          "base_uri": "https://localhost:8080/"
        },
        "outputId": "2b377fe4-e031-425d-f7f4-82590f298c37"
      },
      "source": [
        "df_filtered.show(20, False)"
      ],
      "execution_count": 21,
      "outputs": [
        {
          "output_type": "stream",
          "name": "stdout",
          "text": [
            "+--------------------+-----------------+-----+-----------------------------+------------+\n",
            "|author              |edition          |price|title                        |year_written|\n",
            "+--------------------+-----------------+-----+-----------------------------+------------+\n",
            "|Cunnningham, Michael|Harcourt Brace   |12.35|The Hours                    |1999        |\n",
            "|Rowling, J.K.       |Harcourt Brace   |19.95|Harry Potter                 |2000        |\n",
            "|Marquez             |Harper  Perennial|14.0 |One Hundred Years of Solitude|1967        |\n",
            "+--------------------+-----------------+-----+-----------------------------+------------+\n",
            "\n"
          ]
        }
      ]
    },
    {
      "cell_type": "code",
      "metadata": {
        "id": "86qDvFyPCNZm",
        "colab": {
          "base_uri": "https://localhost:8080/"
        },
        "outputId": "1592cd13-f7e9-4409-8e2b-6f1419c7dc00"
      },
      "source": [
        "df_filtered.select(\"title\", \"year_written\").filter(\"title LIKE '%Harry Potter%'\").distinct().show(20, False)\n"
      ],
      "execution_count": 22,
      "outputs": [
        {
          "output_type": "stream",
          "name": "stdout",
          "text": [
            "+------------+------------+\n",
            "|title       |year_written|\n",
            "+------------+------------+\n",
            "|Harry Potter|2000        |\n",
            "+------------+------------+\n",
            "\n"
          ]
        }
      ]
    },
    {
      "cell_type": "code",
      "metadata": {
        "id": "JB-dU5rqE2vj",
        "colab": {
          "base_uri": "https://localhost:8080/"
        },
        "outputId": "9000d955-314c-4789-a35f-34b7db4e023f"
      },
      "source": [
        "from pyspark.sql.functions import max\n",
        "# Find the costliest book\n",
        "\n",
        "maxValue = df_filtered.agg(max(\"price\")).collect()[0][0]\n",
        "print(\"maxValue: \",maxValue)\n",
        "df_filtered.select(\"title\",\"price\").filter(df.price == maxValue).show(20, False)"
      ],
      "execution_count": 23,
      "outputs": [
        {
          "output_type": "stream",
          "name": "stdout",
          "text": [
            "maxValue:  19.95\n",
            "+------------+-----+\n",
            "|title       |price|\n",
            "+------------+-----+\n",
            "|Harry Potter|19.95|\n",
            "+------------+-----+\n",
            "\n"
          ]
        }
      ]
    },
    {
      "cell_type": "code",
      "source": [
        "# Read csv file into dataframe for Project#12\n",
        "df2 = spark.read.option(\"header\", True).csv(\"/content/books.csv\")"
      ],
      "metadata": {
        "id": "_piXuZ43GzLJ"
      },
      "execution_count": 24,
      "outputs": []
    },
    {
      "cell_type": "code",
      "source": [
        "df2.printSchema()"
      ],
      "metadata": {
        "colab": {
          "base_uri": "https://localhost:8080/"
        },
        "id": "cc5SdwQJLhEY",
        "outputId": "4663db38-3d58-455d-e953-7cc37c5fefec"
      },
      "execution_count": 25,
      "outputs": [
        {
          "output_type": "stream",
          "name": "stdout",
          "text": [
            "root\n",
            " |-- Title: string (nullable = true)\n",
            " |-- Author: string (nullable = true)\n",
            " |-- Genre: string (nullable = true)\n",
            " |-- Height: string (nullable = true)\n",
            " |-- Publisher: string (nullable = true)\n",
            "\n"
          ]
        }
      ]
    },
    {
      "cell_type": "code",
      "source": [
        "df2.show(5,truncate=False)"
      ],
      "metadata": {
        "colab": {
          "base_uri": "https://localhost:8080/"
        },
        "id": "onIJCiNILsAI",
        "outputId": "abb8b089-b926-4a1b-e278-27e2fb669bf5"
      },
      "execution_count": 26,
      "outputs": [
        {
          "output_type": "stream",
          "name": "stdout",
          "text": [
            "+------------------------+----------------+-----------------+------+-------------+\n",
            "|Title                   |Author          |Genre            |Height|Publisher    |\n",
            "+------------------------+----------------+-----------------+------+-------------+\n",
            "|Fundamentals of Wavelets|Goswami, Jaideva|signal_processing|228   |Wiley        |\n",
            "|Data Smart              |Foreman, John   |data_science     |235   |Wiley        |\n",
            "|God Created the Integers|Hawking, Stephen|mathematics      |197   |Penguin      |\n",
            "|Superfreakonomics       |Dubner, Stephen |economics        |179   |HarperCollins|\n",
            "|Orientalism             |Said, Edward    |history          |197   |Penguin      |\n",
            "+------------------------+----------------+-----------------+------+-------------+\n",
            "only showing top 5 rows\n",
            "\n"
          ]
        }
      ]
    },
    {
      "cell_type": "code",
      "source": [
        "df2.count()"
      ],
      "metadata": {
        "colab": {
          "base_uri": "https://localhost:8080/"
        },
        "id": "4im5YSFpL82t",
        "outputId": "05642b1d-da84-4e3b-92c1-995d5f66a71f"
      },
      "execution_count": 27,
      "outputs": [
        {
          "output_type": "execute_result",
          "data": {
            "text/plain": [
              "211"
            ]
          },
          "metadata": {},
          "execution_count": 27
        }
      ]
    },
    {
      "cell_type": "markdown",
      "source": [
        "a. Find all books published by Penguin."
      ],
      "metadata": {
        "id": "gW8EouUiIdGH"
      }
    },
    {
      "cell_type": "code",
      "source": [
        "from pyspark.sql import functions as F\n",
        "penguin_books = df2.filter(df2['Publisher'] == 'Penguin')\n",
        "\n",
        "# Show all columns for Penguin books\n",
        "penguin_books.show()"
      ],
      "metadata": {
        "colab": {
          "base_uri": "https://localhost:8080/"
        },
        "id": "VENPTsWUMSVd",
        "outputId": "e943dbf5-f024-4b76-bb8b-cf06f2bdbb73"
      },
      "execution_count": 28,
      "outputs": [
        {
          "output_type": "stream",
          "name": "stdout",
          "text": [
            "+--------------------+------------------+------------+------+---------+\n",
            "|               Title|            Author|       Genre|Height|Publisher|\n",
            "+--------------------+------------------+------------+------+---------+\n",
            "|God Created the I...|  Hawking, Stephen| mathematics|   197|  Penguin|\n",
            "|         Orientalism|      Said, Edward|     history|   197|  Penguin|\n",
            "|Drunkard's Walk, The| Mlodinow, Leonard|     science|   197|  Penguin|\n",
            "|How to Think Like...|  Konnikova, Maria|  psychology|   240|  Penguin|\n",
            "|   Age of Wrath, The|    Eraly, Abraham|     history|   238|  Penguin|\n",
            "|New Machiavelli, The|      Wells, H. G.|     fiction|   180|  Penguin|\n",
            "|Physics & Philosophy|Heisenberg, Werner|     science|   197|  Penguin|\n",
            "|Signal and the No...|      Silver, Nate|data_science|   233|  Penguin|\n",
            "|Beautiful and the...|   Deb, Siddhartha|  nonfiction|   198|  Penguin|\n",
            "|       Outsider, The|     Camus, Albert|     fiction|   198|  Penguin|\n",
            "| Tao of Physics, The|    Capra, Fritjof|     science|   179|  Penguin|\n",
            "|Return of the Pri...|         Rand, Ayn|  philosophy|   202|  Penguin|\n",
            "|  Russian Journal, A|   Steinbeck, John|  nonfiction|   196|  Penguin|\n",
            "|        Freakonomics|   Dubner, Stephen|   economics|   197|  Penguin|\n",
            "|  Journal of a Novel|   Steinbeck, John|     fiction|   196|  Penguin|\n",
            "|Once There Was a War|   Steinbeck, John|  nonfiction|   196|  Penguin|\n",
            "|   Moon is Down, The|   Steinbeck, John|     fiction|   196|  Penguin|\n",
            "|Crime and Punishment|Dostoevsky, Fyodor|     fiction|   180|  Penguin|\n",
            "|      Sea of Poppies|     Ghosh, Amitav|     fiction|   197|  Penguin|\n",
            "|Idea of Justice, The|      Sen, Amartya|  nonfiction|   212|  Penguin|\n",
            "+--------------------+------------------+------------+------+---------+\n",
            "only showing top 20 rows\n",
            "\n"
          ]
        }
      ]
    },
    {
      "cell_type": "markdown",
      "source": [
        "b. Find 10 longest book titles."
      ],
      "metadata": {
        "id": "uSHMnjfrIUhC"
      }
    },
    {
      "cell_type": "code",
      "source": [
        "# Calculate the length of book titles\n",
        "df2_with_title_length = df2.withColumn('Title_Length', F.length(df2['Title']))\n",
        "\n",
        "# Order by title length and get the top 10 longest titles\n",
        "top_10_longest_titles = df2_with_title_length.orderBy(F.desc('Title_Length')).limit(10)\n",
        "\n",
        "# Show all columns for the 10 longest titles\n",
        "top_10_longest_titles.show()"
      ],
      "metadata": {
        "colab": {
          "base_uri": "https://localhost:8080/"
        },
        "id": "B2hHeX3DMWr_",
        "outputId": "f0b4ac6f-079f-498f-a45c-ce9f45f45fc0"
      },
      "execution_count": 29,
      "outputs": [
        {
          "output_type": "stream",
          "name": "stdout",
          "text": [
            "+--------------------+------------------+-----------------+------+--------------+------------+\n",
            "|               Title|            Author|            Genre|Height|     Publisher|Title_Length|\n",
            "+--------------------+------------------+-----------------+------+--------------+------------+\n",
            "|Clash of Civiliza...|Huntington, Samuel|          history|   228|Simon&Schuster|          54|\n",
            "|Structure & Inter...|   Sussman, Gerald| computer_science|   240|     MIT Press|          47|\n",
            "|Empire of the Mug...|  Rutherford, Alex|          history|   180|          null|          45|\n",
            "|Nature of Statist...|  Vapnik, Vladimir|     data_science|   230|      Springer|          42|\n",
            "|Image Processing ...|       Shih, Frank|signal_processing|   241|           CRC|          42|\n",
            "|Empire of the Mug...|  Rutherford, Alex|          history|   180|          null|          42|\n",
            "|Empire of the Mug...|  Rutherford, Alex|          history|   180|          null|          41|\n",
            "|Empire of the Mug...|  Rutherford, Alex|          history|   180|          null|          41|\n",
            "|Maugham's Collect...|Maugham, William S|          fiction|   171|       Vintage|          40|\n",
            "|Zen & The Art of ...|    Pirsig, Robert|       philosophy|   172|       Vintage|          39|\n",
            "+--------------------+------------------+-----------------+------+--------------+------------+\n",
            "\n"
          ]
        }
      ]
    },
    {
      "cell_type": "markdown",
      "source": [
        "c. Find the author with the greatest number of books\n"
      ],
      "metadata": {
        "id": "OwDcK2vLILPr"
      }
    },
    {
      "cell_type": "code",
      "source": [
        "# Group by 'Author', count the number of books per author, and find the author with the max count\n",
        "author_counts = df2.groupBy('Author').count()\n",
        "max_books_count = author_counts.agg({'count': 'max'}).collect()[0][0]\n",
        "\n",
        "# Get the author(s) with the max count of books\n",
        "author_with_max_books = author_counts.filter(author_counts['count'] == max_books_count).select('Author').collect()\n",
        "\n",
        "# Filter the DataFrame to get books by the author(s) with the most books\n",
        "books_by_top_author = df2.filter(df2['Author'].isin([row.Author for row in author_with_max_books]))\n",
        "\n",
        "# Show the books by the author(s) with the most books\n",
        "books_by_top_author.show()"
      ],
      "metadata": {
        "colab": {
          "base_uri": "https://localhost:8080/"
        },
        "id": "5fUaz3RSMd4d",
        "outputId": "6e6e8193-428e-4931-9963-f13deb725ee6"
      },
      "execution_count": 52,
      "outputs": [
        {
          "output_type": "stream",
          "name": "stdout",
          "text": [
            "+-----+------+-----+------+---------+\n",
            "|Title|Author|Genre|Height|Publisher|\n",
            "+-----+------+-----+------+---------+\n",
            "+-----+------+-----+------+---------+\n",
            "\n"
          ]
        }
      ]
    },
    {
      "cell_type": "markdown",
      "source": [
        "d. Find books included in the genre with the greatest number of books."
      ],
      "metadata": {
        "id": "WIyd5fMIH9FM"
      }
    },
    {
      "cell_type": "code",
      "source": [
        "# Group by 'Genre', count the number of books per genre, and find the genre with the max count\n",
        "genre_counts = df2.groupBy('Genre').count()\n",
        "max_genre_count = genre_counts.agg({'count': 'max'}).collect()[0][0]\n",
        "\n",
        "# Get the genre(s) with the max count of books\n",
        "genre_with_max_books = genre_counts.filter(genre_counts['count'] == max_genre_count).select('Genre').collect()\n",
        "\n",
        "# Filter the DataFrame to get books from the genre(s) with the most books\n",
        "books_in_top_genre = df2.filter(df2['Genre'].isin([row.Genre for row in genre_with_max_books]))\n",
        "\n",
        "# Show the books in the genre(s) with the most books\n",
        "books_in_top_genre.show()"
      ],
      "metadata": {
        "colab": {
          "base_uri": "https://localhost:8080/"
        },
        "id": "TTJDNKrVMq_3",
        "outputId": "33671f53-7f50-45ce-ca2d-7a1947ad1fff"
      },
      "execution_count": 53,
      "outputs": [
        {
          "output_type": "stream",
          "name": "stdout",
          "text": [
            "+--------------------+-------------------+-------+------+-------------+\n",
            "|               Title|             Author|  Genre|Height|    Publisher|\n",
            "+--------------------+-------------------+-------+------+-------------+\n",
            "| Slaughterhouse Five|     Vonnegut, Kurt|fiction|   198| Random House|\n",
            "|          Trial, The|       Kafka, Frank|fiction|   198| Random House|\n",
            "|New Machiavelli, The|       Wells, H. G.|fiction|   180|      Penguin|\n",
            "|       Outsider, The|      Camus, Albert|fiction|   198|      Penguin|\n",
            "|Complete Sherlock...|Doyle, Arthur Conan|fiction|   176| Random House|\n",
            "|Complete Sherlock...|Doyle, Arthur Conan|fiction|   176| Random House|\n",
            "|Pillars of the Ea...|       Follett, Ken|fiction|   176| Random House|\n",
            "| Farewell to Arms, A|  Hemingway, Ernest|fiction|   179|         Rupa|\n",
            "|        Veteran, The| Forsyth, Frederick|fiction|   177|   Transworld|\n",
            "|   False Impressions|    Archer, Jeffery|fiction|   177|          Pan|\n",
            "|       Jurassic Park|  Crichton, Michael|fiction|   174| Random House|\n",
            "|Tales of Mystery ...|   Poe, Edgar Allen|fiction|   172|HarperCollins|\n",
            "|         Asami Asami|     Deshpande, P L|fiction|   205|         Mauj|\n",
            "|  Journal of a Novel|    Steinbeck, John|fiction|   196|      Penguin|\n",
            "|   Moon is Down, The|    Steinbeck, John|fiction|   196|      Penguin|\n",
            "|       Brethren, The|      Grisham, John|fiction|   174| Random House|\n",
            "|     In a Free State|     Naipaul, V. S.|fiction|   196|         Rupa|\n",
            "|            Catch 22|     Heller, Joseph|fiction|   178| Random House|\n",
            "|Amulet of Samarka...|   Stroud, Jonathan|fiction|   179| Random House|\n",
            "|Crime and Punishment| Dostoevsky, Fyodor|fiction|   180|      Penguin|\n",
            "+--------------------+-------------------+-------+------+-------------+\n",
            "only showing top 20 rows\n",
            "\n"
          ]
        }
      ]
    },
    {
      "cell_type": "markdown",
      "source": [
        "e. Find all records with at least one of five columns that has null in it."
      ],
      "metadata": {
        "id": "WiF9eJGPH60o"
      }
    },
    {
      "cell_type": "code",
      "source": [
        "from pyspark.sql.functions import col\n",
        "\n",
        "# Find all records with at least one null value in the specified columns\n",
        "records_with_null = df2.filter(col(\"height\").isNull() | col(\"title\").isNull() | col(\"author\").isNull() | col(\"publisher\").isNull() | col(\"genre\").isNull())\n",
        "records_with_null.show()"
      ],
      "metadata": {
        "colab": {
          "base_uri": "https://localhost:8080/"
        },
        "id": "zvQAUp04ObUi",
        "outputId": "2e55ec4e-dd28-474e-c50e-52fee35a9ce3"
      },
      "execution_count": 59,
      "outputs": [
        {
          "output_type": "stream",
          "name": "stdout",
          "text": [
            "+--------------------+--------------------+----------+------+-------------+\n",
            "|               Title|              Author|     Genre|Height|    Publisher|\n",
            "+--------------------+--------------------+----------+------+-------------+\n",
            "|      Beyond Degrees|                null|nonfiction|   222|HarperCollins|\n",
            "|World's Greatest ...|                null|   history|   210|         null|\n",
            "|Case of the Lame ...|Gardner, Earle St...|   fiction|   179|         null|\n",
            "|World's Greatest ...|                null|   fiction|   217|        Jaico|\n",
            "|    Talking Straight|         Iacoca, Lee|nonfiction|   175|         null|\n",
            "|Phantom of Manhat...|  Forsyth, Frederick|   fiction|   180|         null|\n",
            "|Selected Short St...|                null|   fiction|   215|        Jaico|\n",
            "| Karl Marx Biography|                null|nonfiction|   162|         null|\n",
            "|         Half A Life|        Naipaul, V S|   fiction|   196|         null|\n",
            "|Discovery of Indi...|   Nehru, Jawaharlal|   history|   230|         null|\n",
            "|              Apulki|      Deshpande, P L|nonfiction|   211|         null|\n",
            "|    Unpopular Essays|   Russell, Bertrand|philosophy|   198|         null|\n",
            "|       Deceiver, The|  Forsyth, Frederick|   fiction|   178|         null|\n",
            "|Veil: Secret Wars...|       Woodward, Bob|   history|   171|         null|\n",
            "|         Char Shabda|      Deshpande, P L|nonfiction|   214|         null|\n",
            "| Rosy is My Relative|     Durrell, Gerald|   fiction|   176|         null|\n",
            "|Moon and Sixpence...|  Maugham, William S|   fiction|   180|         null|\n",
            "|Political Philoso...|                null|philosophy|   162|         null|\n",
            "|Short History of ...|          Wells, H G|   history|   197|         null|\n",
            "|Trembling of a Le...|  Maugham, William S|   fiction|   205|         null|\n",
            "+--------------------+--------------------+----------+------+-------------+\n",
            "only showing top 20 rows\n",
            "\n"
          ]
        }
      ]
    },
    {
      "cell_type": "code",
      "source": [],
      "metadata": {
        "id": "qppEla1EOpi0"
      },
      "execution_count": null,
      "outputs": []
    }
  ]
}