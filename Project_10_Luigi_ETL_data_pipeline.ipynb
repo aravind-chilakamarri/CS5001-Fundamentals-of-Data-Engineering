{
  "nbformat": 4,
  "nbformat_minor": 0,
  "metadata": {
    "colab": {
      "provenance": [],
      "include_colab_link": true
    },
    "kernelspec": {
      "name": "python3",
      "display_name": "Python 3"
    },
    "language_info": {
      "name": "python"
    }
  },
  "cells": [
    {
      "cell_type": "markdown",
      "metadata": {
        "id": "view-in-github",
        "colab_type": "text"
      },
      "source": [
        "<a href=\"https://colab.research.google.com/github/aravind-chilakamarri/CS5001-Fundamentals-of-Data-Engineering/blob/main/Project_10_Luigi_ETL_data_pipeline.ipynb\" target=\"_parent\"><img src=\"https://colab.research.google.com/assets/colab-badge.svg\" alt=\"Open In Colab\"/></a>"
      ]
    },
    {
      "cell_type": "code",
      "execution_count": 2,
      "metadata": {
        "id": "L77lWnK7I7LS"
      },
      "outputs": [],
      "source": [
        "import requests # needed to send HTTP request to API server\n",
        "import pandas as pd\n",
        "from sqlalchemy import create_engine # Python SQL and DB toolkit"
      ]
    },
    {
      "cell_type": "code",
      "source": [
        "!pip install luigi"
      ],
      "metadata": {
        "colab": {
          "base_uri": "https://localhost:8080/"
        },
        "id": "ipEvzpQ8_Fbd",
        "outputId": "d93830b5-266d-4df7-e9d5-cdf178ef62e7"
      },
      "execution_count": 3,
      "outputs": [
        {
          "output_type": "stream",
          "name": "stdout",
          "text": [
            "Collecting luigi\n",
            "  Downloading luigi-3.4.0.tar.gz (1.2 MB)\n",
            "\u001b[?25l     \u001b[90m━━━━━━━━━━━━━━━━━━━━━━━━━━━━━━━━━━━━━━━━\u001b[0m \u001b[32m0.0/1.2 MB\u001b[0m \u001b[31m?\u001b[0m eta \u001b[36m-:--:--\u001b[0m\r\u001b[2K     \u001b[91m━━━━━━━━\u001b[0m\u001b[90m╺\u001b[0m\u001b[90m━━━━━━━━━━━━━━━━━━━━━━━━━━━━━━━\u001b[0m \u001b[32m0.3/1.2 MB\u001b[0m \u001b[31m7.5 MB/s\u001b[0m eta \u001b[36m0:00:01\u001b[0m\r\u001b[2K     \u001b[91m━━━━━━━━━━━━━━━━━━━━━\u001b[0m\u001b[90m╺\u001b[0m\u001b[90m━━━━━━━━━━━━━━━━━━\u001b[0m \u001b[32m0.6/1.2 MB\u001b[0m \u001b[31m9.4 MB/s\u001b[0m eta \u001b[36m0:00:01\u001b[0m\r\u001b[2K     \u001b[91m━━━━━━━━━━━━━━━━━━━━━━━━━━━━━━━━━━━━━\u001b[0m\u001b[90m╺\u001b[0m\u001b[90m━━\u001b[0m \u001b[32m1.1/1.2 MB\u001b[0m \u001b[31m11.1 MB/s\u001b[0m eta \u001b[36m0:00:01\u001b[0m\r\u001b[2K     \u001b[90m━━━━━━━━━━━━━━━━━━━━━━━━━━━━━━━━━━━━━━━━\u001b[0m \u001b[32m1.2/1.2 MB\u001b[0m \u001b[31m10.3 MB/s\u001b[0m eta \u001b[36m0:00:00\u001b[0m\n",
            "\u001b[?25h  Preparing metadata (setup.py) ... \u001b[?25l\u001b[?25hdone\n",
            "Requirement already satisfied: python-dateutil<3,>=2.7.5 in /usr/local/lib/python3.10/dist-packages (from luigi) (2.8.2)\n",
            "Requirement already satisfied: tenacity<9,>=8 in /usr/local/lib/python3.10/dist-packages (from luigi) (8.2.3)\n",
            "Collecting python-daemon (from luigi)\n",
            "  Downloading python_daemon-3.0.1-py3-none-any.whl (31 kB)\n",
            "Requirement already satisfied: tornado<7,>=5.0 in /usr/local/lib/python3.10/dist-packages (from luigi) (6.3.2)\n",
            "Requirement already satisfied: six>=1.5 in /usr/local/lib/python3.10/dist-packages (from python-dateutil<3,>=2.7.5->luigi) (1.16.0)\n",
            "Requirement already satisfied: docutils in /usr/local/lib/python3.10/dist-packages (from python-daemon->luigi) (0.18.1)\n",
            "Collecting lockfile>=0.10 (from python-daemon->luigi)\n",
            "  Downloading lockfile-0.12.2-py2.py3-none-any.whl (13 kB)\n",
            "Requirement already satisfied: setuptools>=62.4.0 in /usr/local/lib/python3.10/dist-packages (from python-daemon->luigi) (67.7.2)\n",
            "Building wheels for collected packages: luigi\n",
            "  Building wheel for luigi (setup.py) ... \u001b[?25l\u001b[?25hdone\n",
            "  Created wheel for luigi: filename=luigi-3.4.0-py3-none-any.whl size=1085379 sha256=0cdb34973c9cdea48c5cd94c9310c44268469d59b803ac85e4831f3b27ae01a8\n",
            "  Stored in directory: /root/.cache/pip/wheels/88/8a/ef/e4334a9a7b9355f9a1b0cb1a439a2bead64e74e4330b3a0c12\n",
            "Successfully built luigi\n",
            "Installing collected packages: lockfile, python-daemon, luigi\n",
            "Successfully installed lockfile-0.12.2 luigi-3.4.0 python-daemon-3.0.1\n"
          ]
        }
      ]
    },
    {
      "cell_type": "code",
      "source": [
        "import luigi\n",
        "import pandas as pd\n",
        "import requests\n",
        "from sqlalchemy import create_engine\n",
        "import os"
      ],
      "metadata": {
        "id": "U8UBSZIy_JM-"
      },
      "execution_count": 19,
      "outputs": []
    },
    {
      "cell_type": "code",
      "source": [
        "\n",
        "\n",
        "def extract():\n",
        "    API_URL = \"https://api.openbrewerydb.org/v1/breweries?by_state=missouri\"\n",
        "    data = requests.get(API_URL).json()\n",
        "    return data\n",
        "\n",
        "def transform(df):\n",
        "    df[\"state\"] = df[\"state\"].replace(\"Missouri\", \"MO\")\n",
        "    df[\"postal_code\"] = df[\"postal_code\"].str.slice(stop=5)\n",
        "    return df\n",
        "\n",
        "def load(df, db_path):\n",
        "    db_engine = create_engine(f\"sqlite:///{db_path}\")\n",
        "    df.to_sql('mo_brewery', db_engine, if_exists='replace', index=False)\n",
        "\n",
        "class ExtractTask(luigi.Task):\n",
        "    def output(self):\n",
        "        return luigi.LocalTarget(\"extract.csv\")\n",
        "\n",
        "    def run(self):\n",
        "        data = extract()\n",
        "        df = pd.DataFrame(data)\n",
        "        df.to_csv(self.output().path, index=False)\n",
        "\n",
        "class TransformTask(luigi.Task):\n",
        "    def requires(self):\n",
        "        return ExtractTask()\n",
        "\n",
        "    def output(self):\n",
        "        return luigi.LocalTarget(\"transform.csv\")\n",
        "\n",
        "    def run(self):\n",
        "        df = pd.read_csv(self.input().path)\n",
        "        transformed_df = transform(df)\n",
        "        transformed_df.to_csv(self.output().path, index=False)\n",
        "\n",
        "class LoadTask(luigi.Task):\n",
        "    def requires(self):\n",
        "        return TransformTask()\n",
        "\n",
        "    def output(self):\n",
        "        return luigi.LocalTarget(\"my_lite_store.db\")\n",
        "\n",
        "    def run(self):\n",
        "        df = pd.read_csv(self.input().path)\n",
        "        load(df, self.output().path)\n",
        "\n",
        "if __name__ == '__main__':\n",
        "    luigi.build([LoadTask()], local_scheduler=True)\n"
      ],
      "metadata": {
        "colab": {
          "base_uri": "https://localhost:8080/"
        },
        "id": "spR-grn9--h4",
        "outputId": "8171a8e6-9f98-4827-c9e5-827c75860041"
      },
      "execution_count": 20,
      "outputs": [
        {
          "output_type": "stream",
          "name": "stderr",
          "text": [
            "DEBUG: Checking if LoadTask() is complete\n",
            "DEBUG:luigi-interface:Checking if LoadTask() is complete\n",
            "INFO: Informed scheduler that task   LoadTask__99914b932b   has status   DONE\n",
            "INFO:luigi-interface:Informed scheduler that task   LoadTask__99914b932b   has status   DONE\n",
            "INFO: Done scheduling tasks\n",
            "INFO:luigi-interface:Done scheduling tasks\n",
            "INFO: Running Worker with 1 processes\n",
            "INFO:luigi-interface:Running Worker with 1 processes\n",
            "DEBUG: Asking scheduler for work...\n",
            "DEBUG:luigi-interface:Asking scheduler for work...\n",
            "DEBUG: Done\n",
            "DEBUG:luigi-interface:Done\n",
            "DEBUG: There are no more tasks to run at this time\n",
            "DEBUG:luigi-interface:There are no more tasks to run at this time\n",
            "INFO: Worker Worker(salt=7269379387, workers=1, host=7a27bb3f3fad, username=root, pid=251) was stopped. Shutting down Keep-Alive thread\n",
            "INFO:luigi-interface:Worker Worker(salt=7269379387, workers=1, host=7a27bb3f3fad, username=root, pid=251) was stopped. Shutting down Keep-Alive thread\n",
            "INFO: \n",
            "===== Luigi Execution Summary =====\n",
            "\n",
            "Scheduled 1 tasks of which:\n",
            "* 1 complete ones were encountered:\n",
            "    - 1 LoadTask()\n",
            "\n",
            "Did not run any tasks\n",
            "This progress looks :) because there were no failed tasks or missing dependencies\n",
            "\n",
            "===== Luigi Execution Summary =====\n",
            "\n",
            "INFO:luigi-interface:\n",
            "===== Luigi Execution Summary =====\n",
            "\n",
            "Scheduled 1 tasks of which:\n",
            "* 1 complete ones were encountered:\n",
            "    - 1 LoadTask()\n",
            "\n",
            "Did not run any tasks\n",
            "This progress looks :) because there were no failed tasks or missing dependencies\n",
            "\n",
            "===== Luigi Execution Summary =====\n",
            "\n"
          ]
        }
      ]
    },
    {
      "cell_type": "code",
      "source": [
        "%load_ext sql"
      ],
      "metadata": {
        "colab": {
          "base_uri": "https://localhost:8080/"
        },
        "id": "MW59IhacBJcz",
        "outputId": "14a62d29-0425-4cdb-e085-4a67e6a4f27d"
      },
      "execution_count": 21,
      "outputs": [
        {
          "output_type": "stream",
          "name": "stdout",
          "text": [
            "The sql extension is already loaded. To reload it, use:\n",
            "  %reload_ext sql\n"
          ]
        }
      ]
    },
    {
      "cell_type": "code",
      "source": [
        "%%sql\n",
        "sqlite:///my_lite_store.db"
      ],
      "metadata": {
        "id": "3PrFNwZq-_2H"
      },
      "execution_count": 22,
      "outputs": []
    },
    {
      "cell_type": "code",
      "source": [
        "%%sql\n",
        "select * from mo_brewery limit 10;"
      ],
      "metadata": {
        "colab": {
          "base_uri": "https://localhost:8080/",
          "height": 828
        },
        "id": "5lj4NBM_BMHG",
        "outputId": "c034e32f-f4fc-44a3-e4f6-916c4aff01aa"
      },
      "execution_count": 23,
      "outputs": [
        {
          "output_type": "stream",
          "name": "stdout",
          "text": [
            " * sqlite:///my_lite_store.db\n",
            "Done.\n"
          ]
        },
        {
          "output_type": "execute_result",
          "data": {
            "text/plain": [
              "[(0, '84337872-75da-4cdd-9f8f-1e1691f21642', '21st St Brewers Bar', 'brewpub', '2017 Chouteau Ave', None, None, 'Saint Louis', 'Missouri', '63103', 'United States', '-90.213781', '38.624291', '3142416969', 'http://www.21stbrew.com', 'MO', '2017 Chouteau Ave'),\n",
              " (1, 'be0ec266-d637-42e4-94ba-4ce21e456054', '2nd Shift Brewing Co', 'brewpub', '1601 Sublette Ave', None, None, 'Saint Louis', 'Missouri', '63110', 'United States', '-90.280526', '38.621943', '6187910728', 'http://www.2ndshiftbrewing.com', 'MO', '1601 Sublette Ave'),\n",
              " (2, 'cb56e27e-d113-4f74-925a-69305a56d082', '3 Trails Brewing Co', 'micro', '111 N Main St ', None, None, 'Independence', 'Missouri', '64050', 'United States', '-94.41265', '39.122385', '8168866256', 'http://www.3trailsbrewing.com', 'MO', '111 N Main St '),\n",
              " (3, '4f70ac94-eca5-4cec-8581-92ec5afdf4f2', '3Halves Brewing Co', 'brewpub', '110 E Kansas St', None, None, 'Liberty', 'Missouri', '64068', 'United States', '-94.4190247', '39.2461993', '8164296886', 'http://www.3halvesbrewingco.com', 'MO', '110 E Kansas St'),\n",
              " (4, 'b72f2ce6-e062-404d-ac31-c1060db2d870', '4 By 4 Brewing Company', 'micro', '2811 E Galloway St Ste A', None, None, 'Springfield', 'Missouri', '65804', 'United States', '-93.239889', '37.147986', '4178616400', 'http://www.4by4brewingcompany.com', 'MO', '2811 E Galloway St Ste A'),\n",
              " (5, 'ac2f41ed-e1e8-4586-aa78-253543db7714', '4 Hands Brewing Co', 'regional', '1220 S 8th St', None, None, 'Saint Louis', 'Missouri', '63104', 'United States', '-90.19762012', '38.61526593', '3144361559', 'http://www.4handsbrewery.com', 'MO', '1220 S 8th St'),\n",
              " (6, '085c97d4-5a01-4e28-a1c6-683bf773b062', 'Alma Mader Brewing', 'micro', '2635 Southwest Blvd', None, None, 'Kansas City', 'Missouri', '64108', 'United States', '-94.599389', '39.082495', '8169452589', 'http://almamaderbrewing.com', 'MO', '2635 Southwest Blvd'),\n",
              " (7, '0edb8050-2911-4a04-a99a-7927e05cd018', 'Alpha Brewing Co.', 'micro', '4310 Fyler Ave', None, None, 'Saint Louis', 'Missouri', '63116', 'United States', '-90.26236838', '38.59861817', '3146212337', 'http://www.alphabrewingcompany.com', 'MO', '4310 Fyler Ave'),\n",
              " (8, '32dd19c9-33b8-4ed5-b5f0-1fb5f5d8ad02', 'Amerisports Brew Pub', 'brewpub', '3200 Ameristar Dr', None, None, 'Kansas City', 'Missouri', '64161', 'United States', '-94.484526', '39.150682', '8164147435', 'http://www.ameristar.com', 'MO', '3200 Ameristar Dr'),\n",
              " (9, 'd1a61260-d377-4e7d-8ce9-8851e30934ae', 'Anheuser-Busch InBev', 'large', '1 Busch Pl', None, None, 'Saint Louis', 'Missouri', '63118', 'United States', '-90.2118998', '38.5954536', '3145772000', 'http://www.anheuser-busch.com', 'MO', '1 Busch Pl')]"
            ],
            "text/html": [
              "<table>\n",
              "    <thead>\n",
              "        <tr>\n",
              "            <th>index</th>\n",
              "            <th>id</th>\n",
              "            <th>name</th>\n",
              "            <th>brewery_type</th>\n",
              "            <th>address_1</th>\n",
              "            <th>address_2</th>\n",
              "            <th>address_3</th>\n",
              "            <th>city</th>\n",
              "            <th>state_province</th>\n",
              "            <th>postal_code</th>\n",
              "            <th>country</th>\n",
              "            <th>longitude</th>\n",
              "            <th>latitude</th>\n",
              "            <th>phone</th>\n",
              "            <th>website_url</th>\n",
              "            <th>state</th>\n",
              "            <th>street</th>\n",
              "        </tr>\n",
              "    </thead>\n",
              "    <tbody>\n",
              "        <tr>\n",
              "            <td>0</td>\n",
              "            <td>84337872-75da-4cdd-9f8f-1e1691f21642</td>\n",
              "            <td>21st St Brewers Bar</td>\n",
              "            <td>brewpub</td>\n",
              "            <td>2017 Chouteau Ave</td>\n",
              "            <td>None</td>\n",
              "            <td>None</td>\n",
              "            <td>Saint Louis</td>\n",
              "            <td>Missouri</td>\n",
              "            <td>63103</td>\n",
              "            <td>United States</td>\n",
              "            <td>-90.213781</td>\n",
              "            <td>38.624291</td>\n",
              "            <td>3142416969</td>\n",
              "            <td>http://www.21stbrew.com</td>\n",
              "            <td>MO</td>\n",
              "            <td>2017 Chouteau Ave</td>\n",
              "        </tr>\n",
              "        <tr>\n",
              "            <td>1</td>\n",
              "            <td>be0ec266-d637-42e4-94ba-4ce21e456054</td>\n",
              "            <td>2nd Shift Brewing Co</td>\n",
              "            <td>brewpub</td>\n",
              "            <td>1601 Sublette Ave</td>\n",
              "            <td>None</td>\n",
              "            <td>None</td>\n",
              "            <td>Saint Louis</td>\n",
              "            <td>Missouri</td>\n",
              "            <td>63110</td>\n",
              "            <td>United States</td>\n",
              "            <td>-90.280526</td>\n",
              "            <td>38.621943</td>\n",
              "            <td>6187910728</td>\n",
              "            <td>http://www.2ndshiftbrewing.com</td>\n",
              "            <td>MO</td>\n",
              "            <td>1601 Sublette Ave</td>\n",
              "        </tr>\n",
              "        <tr>\n",
              "            <td>2</td>\n",
              "            <td>cb56e27e-d113-4f74-925a-69305a56d082</td>\n",
              "            <td>3 Trails Brewing Co</td>\n",
              "            <td>micro</td>\n",
              "            <td>111 N Main St </td>\n",
              "            <td>None</td>\n",
              "            <td>None</td>\n",
              "            <td>Independence</td>\n",
              "            <td>Missouri</td>\n",
              "            <td>64050</td>\n",
              "            <td>United States</td>\n",
              "            <td>-94.41265</td>\n",
              "            <td>39.122385</td>\n",
              "            <td>8168866256</td>\n",
              "            <td>http://www.3trailsbrewing.com</td>\n",
              "            <td>MO</td>\n",
              "            <td>111 N Main St </td>\n",
              "        </tr>\n",
              "        <tr>\n",
              "            <td>3</td>\n",
              "            <td>4f70ac94-eca5-4cec-8581-92ec5afdf4f2</td>\n",
              "            <td>3Halves Brewing Co</td>\n",
              "            <td>brewpub</td>\n",
              "            <td>110 E Kansas St</td>\n",
              "            <td>None</td>\n",
              "            <td>None</td>\n",
              "            <td>Liberty</td>\n",
              "            <td>Missouri</td>\n",
              "            <td>64068</td>\n",
              "            <td>United States</td>\n",
              "            <td>-94.4190247</td>\n",
              "            <td>39.2461993</td>\n",
              "            <td>8164296886</td>\n",
              "            <td>http://www.3halvesbrewingco.com</td>\n",
              "            <td>MO</td>\n",
              "            <td>110 E Kansas St</td>\n",
              "        </tr>\n",
              "        <tr>\n",
              "            <td>4</td>\n",
              "            <td>b72f2ce6-e062-404d-ac31-c1060db2d870</td>\n",
              "            <td>4 By 4 Brewing Company</td>\n",
              "            <td>micro</td>\n",
              "            <td>2811 E Galloway St Ste A</td>\n",
              "            <td>None</td>\n",
              "            <td>None</td>\n",
              "            <td>Springfield</td>\n",
              "            <td>Missouri</td>\n",
              "            <td>65804</td>\n",
              "            <td>United States</td>\n",
              "            <td>-93.239889</td>\n",
              "            <td>37.147986</td>\n",
              "            <td>4178616400</td>\n",
              "            <td>http://www.4by4brewingcompany.com</td>\n",
              "            <td>MO</td>\n",
              "            <td>2811 E Galloway St Ste A</td>\n",
              "        </tr>\n",
              "        <tr>\n",
              "            <td>5</td>\n",
              "            <td>ac2f41ed-e1e8-4586-aa78-253543db7714</td>\n",
              "            <td>4 Hands Brewing Co</td>\n",
              "            <td>regional</td>\n",
              "            <td>1220 S 8th St</td>\n",
              "            <td>None</td>\n",
              "            <td>None</td>\n",
              "            <td>Saint Louis</td>\n",
              "            <td>Missouri</td>\n",
              "            <td>63104</td>\n",
              "            <td>United States</td>\n",
              "            <td>-90.19762012</td>\n",
              "            <td>38.61526593</td>\n",
              "            <td>3144361559</td>\n",
              "            <td>http://www.4handsbrewery.com</td>\n",
              "            <td>MO</td>\n",
              "            <td>1220 S 8th St</td>\n",
              "        </tr>\n",
              "        <tr>\n",
              "            <td>6</td>\n",
              "            <td>085c97d4-5a01-4e28-a1c6-683bf773b062</td>\n",
              "            <td>Alma Mader Brewing</td>\n",
              "            <td>micro</td>\n",
              "            <td>2635 Southwest Blvd</td>\n",
              "            <td>None</td>\n",
              "            <td>None</td>\n",
              "            <td>Kansas City</td>\n",
              "            <td>Missouri</td>\n",
              "            <td>64108</td>\n",
              "            <td>United States</td>\n",
              "            <td>-94.599389</td>\n",
              "            <td>39.082495</td>\n",
              "            <td>8169452589</td>\n",
              "            <td>http://almamaderbrewing.com</td>\n",
              "            <td>MO</td>\n",
              "            <td>2635 Southwest Blvd</td>\n",
              "        </tr>\n",
              "        <tr>\n",
              "            <td>7</td>\n",
              "            <td>0edb8050-2911-4a04-a99a-7927e05cd018</td>\n",
              "            <td>Alpha Brewing Co.</td>\n",
              "            <td>micro</td>\n",
              "            <td>4310 Fyler Ave</td>\n",
              "            <td>None</td>\n",
              "            <td>None</td>\n",
              "            <td>Saint Louis</td>\n",
              "            <td>Missouri</td>\n",
              "            <td>63116</td>\n",
              "            <td>United States</td>\n",
              "            <td>-90.26236838</td>\n",
              "            <td>38.59861817</td>\n",
              "            <td>3146212337</td>\n",
              "            <td>http://www.alphabrewingcompany.com</td>\n",
              "            <td>MO</td>\n",
              "            <td>4310 Fyler Ave</td>\n",
              "        </tr>\n",
              "        <tr>\n",
              "            <td>8</td>\n",
              "            <td>32dd19c9-33b8-4ed5-b5f0-1fb5f5d8ad02</td>\n",
              "            <td>Amerisports Brew Pub</td>\n",
              "            <td>brewpub</td>\n",
              "            <td>3200 Ameristar Dr</td>\n",
              "            <td>None</td>\n",
              "            <td>None</td>\n",
              "            <td>Kansas City</td>\n",
              "            <td>Missouri</td>\n",
              "            <td>64161</td>\n",
              "            <td>United States</td>\n",
              "            <td>-94.484526</td>\n",
              "            <td>39.150682</td>\n",
              "            <td>8164147435</td>\n",
              "            <td>http://www.ameristar.com</td>\n",
              "            <td>MO</td>\n",
              "            <td>3200 Ameristar Dr</td>\n",
              "        </tr>\n",
              "        <tr>\n",
              "            <td>9</td>\n",
              "            <td>d1a61260-d377-4e7d-8ce9-8851e30934ae</td>\n",
              "            <td>Anheuser-Busch InBev</td>\n",
              "            <td>large</td>\n",
              "            <td>1 Busch Pl</td>\n",
              "            <td>None</td>\n",
              "            <td>None</td>\n",
              "            <td>Saint Louis</td>\n",
              "            <td>Missouri</td>\n",
              "            <td>63118</td>\n",
              "            <td>United States</td>\n",
              "            <td>-90.2118998</td>\n",
              "            <td>38.5954536</td>\n",
              "            <td>3145772000</td>\n",
              "            <td>http://www.anheuser-busch.com</td>\n",
              "            <td>MO</td>\n",
              "            <td>1 Busch Pl</td>\n",
              "        </tr>\n",
              "    </tbody>\n",
              "</table>"
            ]
          },
          "metadata": {},
          "execution_count": 23
        }
      ]
    },
    {
      "cell_type": "code",
      "source": [],
      "metadata": {
        "id": "YZEXvDVIBOR1"
      },
      "execution_count": null,
      "outputs": []
    }
  ]
}